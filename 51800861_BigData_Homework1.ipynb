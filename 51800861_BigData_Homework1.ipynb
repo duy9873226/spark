{
  "nbformat": 4,
  "nbformat_minor": 0,
  "metadata": {
    "colab": {
      "name": "51800861_BigData_Homework1.ipynb",
      "provenance": [],
      "collapsed_sections": [],
      "authorship_tag": "ABX9TyNt4OhZsuEV5fa9mZ7CDS1S",
      "include_colab_link": true
    },
    "kernelspec": {
      "name": "python3",
      "display_name": "Python 3"
    }
  },
  "cells": [
    {
      "cell_type": "markdown",
      "metadata": {
        "id": "view-in-github",
        "colab_type": "text"
      },
      "source": [
        "<a href=\"https://colab.research.google.com/github/duy9873226/spark/blob/main/51800861_BigData_Homework1.ipynb\" target=\"_parent\"><img src=\"https://colab.research.google.com/assets/colab-badge.svg\" alt=\"Open In Colab\"/></a>"
      ]
    },
    {
      "cell_type": "code",
      "metadata": {
        "colab": {
          "base_uri": "https://localhost:8080/"
        },
        "id": "wzvdvr_tYWlk",
        "outputId": "b22fd8d6-c18c-4365-d7a2-521cbb205553"
      },
      "source": [
        "import pyspark\r\n",
        "filename = 'train.txt'\r\n",
        "sc = pyspark.SparkContext.getOrCreate()\r\n",
        "words = sc.textFile(filename).flatMap(lambda line: line.split(\" \"))\r\n",
        "wordCounts = words.map(lambda word: (word, 1)).reduceByKey(lambda a,b:a +b)\r\n",
        "wordCounts = wordCounts.sortBy(lambda x:x[1]).collect()\r\n",
        "wordCounts.pop()\r\n",
        "wordCounts.reverse()\r\n",
        "k=10\r\n",
        "for i in range(0,k):\r\n",
        "  print(wordCounts[i])"
      ],
      "execution_count": 10,
      "outputs": [
        {
          "output_type": "stream",
          "text": [
            "('the', 12317)\n",
            "('to', 8150)\n",
            "('of', 7042)\n",
            "('and', 6905)\n",
            "('a', 6422)\n",
            "('that', 4838)\n",
            "('in', 4580)\n",
            "('I', 4373)\n",
            "('is', 3144)\n",
            "('we', 3112)\n"
          ],
          "name": "stdout"
        }
      ]
    },
    {
      "cell_type": "code",
      "metadata": {
        "colab": {
          "base_uri": "https://localhost:8080/"
        },
        "id": "jQtB52geYghR",
        "outputId": "6ceb9a89-7994-4254-eecb-993c33662b0b"
      },
      "source": [
        "pip install pyspark"
      ],
      "execution_count": 2,
      "outputs": [
        {
          "output_type": "stream",
          "text": [
            "Collecting pyspark\n",
            "\u001b[?25l  Downloading https://files.pythonhosted.org/packages/f0/26/198fc8c0b98580f617cb03cb298c6056587b8f0447e20fa40c5b634ced77/pyspark-3.0.1.tar.gz (204.2MB)\n",
            "\u001b[K     |████████████████████████████████| 204.2MB 69kB/s \n",
            "\u001b[?25hCollecting py4j==0.10.9\n",
            "\u001b[?25l  Downloading https://files.pythonhosted.org/packages/9e/b6/6a4fb90cd235dc8e265a6a2067f2a2c99f0d91787f06aca4bcf7c23f3f80/py4j-0.10.9-py2.py3-none-any.whl (198kB)\n",
            "\u001b[K     |████████████████████████████████| 204kB 43.1MB/s \n",
            "\u001b[?25hBuilding wheels for collected packages: pyspark\n",
            "  Building wheel for pyspark (setup.py) ... \u001b[?25l\u001b[?25hdone\n",
            "  Created wheel for pyspark: filename=pyspark-3.0.1-py2.py3-none-any.whl size=204612242 sha256=4d4982f096da796918c147a78838093b046a8e36b505c0f730b91f8717383873\n",
            "  Stored in directory: /root/.cache/pip/wheels/5e/bd/07/031766ca628adec8435bb40f0bd83bb676ce65ff4007f8e73f\n",
            "Successfully built pyspark\n",
            "Installing collected packages: py4j, pyspark\n",
            "Successfully installed py4j-0.10.9 pyspark-3.0.1\n"
          ],
          "name": "stdout"
        }
      ]
    }
  ]
}